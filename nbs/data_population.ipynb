{
 "cells": [
  {
   "cell_type": "code",
   "execution_count": 1,
   "id": "7bb7e15e",
   "metadata": {
    "execution": {
     "iopub.execute_input": "2023-08-24T06:07:47.609850Z",
     "iopub.status.busy": "2023-08-24T06:07:47.609850Z",
     "iopub.status.idle": "2023-08-24T06:07:47.623288Z",
     "shell.execute_reply": "2023-08-24T06:07:47.623288Z"
    }
   },
   "outputs": [],
   "source": [
    "import sys\n",
    "import os\n",
    "\n",
    "ROOT_PATH = \"E:/ADS/python/ams/isaccade\"\n",
    "os.chdir(ROOT_PATH)"
   ]
  },
  {
   "cell_type": "code",
   "execution_count": 2,
   "id": "a49935c0",
   "metadata": {
    "execution": {
     "iopub.execute_input": "2023-08-24T06:07:47.625831Z",
     "iopub.status.busy": "2023-08-24T06:07:47.625831Z",
     "iopub.status.idle": "2023-08-24T06:07:48.374991Z",
     "shell.execute_reply": "2023-08-24T06:07:48.374991Z"
    }
   },
   "outputs": [],
   "source": [
    "import h5py as hy\n",
    "import numpy as np\n",
    "import pandas as pd\n",
    "import scipy.io as spy\n",
    "import utils.funcs.readMatfiles as readmat"
   ]
  },
  {
   "cell_type": "code",
   "execution_count": 3,
   "id": "12744d94",
   "metadata": {
    "execution": {
     "iopub.execute_input": "2023-08-24T06:07:48.375999Z",
     "iopub.status.busy": "2023-08-24T06:07:48.375999Z",
     "iopub.status.idle": "2023-08-24T06:07:48.383641Z",
     "shell.execute_reply": "2023-08-24T06:07:48.383641Z"
    }
   },
   "outputs": [
    {
     "name": "stdout",
     "output_type": "stream",
     "text": [
      "E:/ADS/python/ams/isaccade/data/MG/fef/population/m1\n"
     ]
    }
   ],
   "source": [
    "ROOT_PATH = \"E:/ADS/python/ams/isaccade\"\n",
    "get_data  = \"data\"\n",
    "task      = \"MG\"\n",
    "recordings = \"fef\"\n",
    "analysis   = \"population\"\n",
    "subject    = \"m1\"\n",
    "\n",
    "fpath = \"/\".join([ROOT_PATH,get_data,task,recordings,analysis,subject])\n",
    "print(fpath)"
   ]
  },
  {
   "cell_type": "code",
   "execution_count": 4,
   "id": "b60bf924",
   "metadata": {
    "execution": {
     "iopub.execute_input": "2023-08-24T06:07:48.383641Z",
     "iopub.status.busy": "2023-08-24T06:07:48.383641Z",
     "iopub.status.idle": "2023-08-24T06:07:48.394066Z",
     "shell.execute_reply": "2023-08-24T06:07:48.394066Z"
    }
   },
   "outputs": [
    {
     "data": {
      "text/plain": [
       "'E:/ADS/python/ams/isaccade/data/MG/fef/population/m1/nFEF.mat'"
      ]
     },
     "execution_count": 4,
     "metadata": {},
     "output_type": "execute_result"
    }
   ],
   "source": [
    "#file = \"type/Nrn_cell_mf.mat\"\n",
    "#file = \"type/Nrn_cell_pd.mat\"\n",
    "\n",
    "#file = \"type/Nrn_cell_params.mat\"\n",
    "\n",
    "#file  = \"where/Nrn_dir_sroc.mat\"\n",
    "file = \"nFEF.mat\"\n",
    "filename = fpath+'/'+file\n",
    "filename"
   ]
  },
  {
   "cell_type": "code",
   "execution_count": 5,
   "id": "cb869587",
   "metadata": {
    "execution": {
     "iopub.execute_input": "2023-08-24T06:07:48.394066Z",
     "iopub.status.busy": "2023-08-24T06:07:48.394066Z",
     "iopub.status.idle": "2023-08-24T06:07:49.507346Z",
     "shell.execute_reply": "2023-08-24T06:07:49.507346Z"
    }
   },
   "outputs": [
    {
     "name": "stdout",
     "output_type": "stream",
     "text": [
      "Opening mat file v7.0 Path: E:/ADS/python/ams/isaccade/data/MG/fef/population/m1/nFEF.mat\n"
     ]
    },
    {
     "data": {
      "text/html": [
       "<div>\n",
       "<style scoped>\n",
       "    .dataframe tbody tr th:only-of-type {\n",
       "        vertical-align: middle;\n",
       "    }\n",
       "\n",
       "    .dataframe tbody tr th {\n",
       "        vertical-align: top;\n",
       "    }\n",
       "\n",
       "    .dataframe thead th {\n",
       "        text-align: right;\n",
       "    }\n",
       "</style>\n",
       "<table border=\"1\" class=\"dataframe\">\n",
       "  <thead>\n",
       "    <tr style=\"text-align: right;\">\n",
       "      <th></th>\n",
       "      <th>Variables</th>\n",
       "      <th>Type</th>\n",
       "      <th>Fields</th>\n",
       "      <th>Dim</th>\n",
       "    </tr>\n",
       "  </thead>\n",
       "  <tbody>\n",
       "    <tr>\n",
       "      <th>0</th>\n",
       "      <td>AMP</td>\n",
       "      <td>ndarray</td>\n",
       "      <td>float64</td>\n",
       "      <td>(302, 115)</td>\n",
       "    </tr>\n",
       "    <tr>\n",
       "      <th>1</th>\n",
       "      <td>DIR</td>\n",
       "      <td>ndarray</td>\n",
       "      <td>float64</td>\n",
       "      <td>(302, 115)</td>\n",
       "    </tr>\n",
       "    <tr>\n",
       "      <th>2</th>\n",
       "      <td>DUR</td>\n",
       "      <td>ndarray</td>\n",
       "      <td>float64</td>\n",
       "      <td>(302, 115)</td>\n",
       "    </tr>\n",
       "    <tr>\n",
       "      <th>3</th>\n",
       "      <td>HT</td>\n",
       "      <td>ndarray</td>\n",
       "      <td>float64</td>\n",
       "      <td>(302, 115)</td>\n",
       "    </tr>\n",
       "    <tr>\n",
       "      <th>4</th>\n",
       "      <td>NTR</td>\n",
       "      <td>ndarray</td>\n",
       "      <td>float64</td>\n",
       "      <td>(115, 1)</td>\n",
       "    </tr>\n",
       "    <tr>\n",
       "      <th>5</th>\n",
       "      <td>POS</td>\n",
       "      <td>ndarray</td>\n",
       "      <td>float64</td>\n",
       "      <td>(302, 115)</td>\n",
       "    </tr>\n",
       "    <tr>\n",
       "      <th>6</th>\n",
       "      <td>RT</td>\n",
       "      <td>ndarray</td>\n",
       "      <td>float64</td>\n",
       "      <td>(302, 115)</td>\n",
       "    </tr>\n",
       "    <tr>\n",
       "      <th>7</th>\n",
       "      <td>Raw</td>\n",
       "      <td>dict</td>\n",
       "      <td>[value, shape]</td>\n",
       "      <td>2</td>\n",
       "    </tr>\n",
       "    <tr>\n",
       "      <th>8</th>\n",
       "      <td>SPEED</td>\n",
       "      <td>ndarray</td>\n",
       "      <td>float64</td>\n",
       "      <td>(302, 115)</td>\n",
       "    </tr>\n",
       "    <tr>\n",
       "      <th>9</th>\n",
       "      <td>SPtime</td>\n",
       "      <td>dict</td>\n",
       "      <td>[value, shape]</td>\n",
       "      <td>2</td>\n",
       "    </tr>\n",
       "    <tr>\n",
       "      <th>10</th>\n",
       "      <td>channel</td>\n",
       "      <td>ndarray</td>\n",
       "      <td>float64</td>\n",
       "      <td>(115, 1)</td>\n",
       "    </tr>\n",
       "    <tr>\n",
       "      <th>11</th>\n",
       "      <td>date</td>\n",
       "      <td>dict</td>\n",
       "      <td>[value, shape]</td>\n",
       "      <td>2</td>\n",
       "    </tr>\n",
       "    <tr>\n",
       "      <th>12</th>\n",
       "      <td>mdates</td>\n",
       "      <td>dict</td>\n",
       "      <td>[value, shape]</td>\n",
       "      <td>2</td>\n",
       "    </tr>\n",
       "    <tr>\n",
       "      <th>13</th>\n",
       "      <td>mfiles</td>\n",
       "      <td>dict</td>\n",
       "      <td>[value, shape]</td>\n",
       "      <td>2</td>\n",
       "    </tr>\n",
       "    <tr>\n",
       "      <th>14</th>\n",
       "      <td>spike</td>\n",
       "      <td>ndarray</td>\n",
       "      <td>float64</td>\n",
       "      <td>(98, 115)</td>\n",
       "    </tr>\n",
       "    <tr>\n",
       "      <th>15</th>\n",
       "      <td>time</td>\n",
       "      <td>ndarray</td>\n",
       "      <td>float64</td>\n",
       "      <td>(1281, 1)</td>\n",
       "    </tr>\n",
       "  </tbody>\n",
       "</table>\n",
       "</div>"
      ],
      "text/plain": [
       "   Variables     Type          Fields         Dim\n",
       "0        AMP  ndarray         float64  (302, 115)\n",
       "1        DIR  ndarray         float64  (302, 115)\n",
       "2        DUR  ndarray         float64  (302, 115)\n",
       "3         HT  ndarray         float64  (302, 115)\n",
       "4        NTR  ndarray         float64    (115, 1)\n",
       "5        POS  ndarray         float64  (302, 115)\n",
       "6         RT  ndarray         float64  (302, 115)\n",
       "7        Raw     dict  [value, shape]           2\n",
       "8      SPEED  ndarray         float64  (302, 115)\n",
       "9     SPtime     dict  [value, shape]           2\n",
       "10   channel  ndarray         float64    (115, 1)\n",
       "11      date     dict  [value, shape]           2\n",
       "12    mdates     dict  [value, shape]           2\n",
       "13    mfiles     dict  [value, shape]           2\n",
       "14     spike  ndarray         float64   (98, 115)\n",
       "15      time  ndarray         float64   (1281, 1)"
      ]
     },
     "metadata": {},
     "output_type": "display_data"
    }
   ],
   "source": [
    "data = readmat.load_data(filename)"
   ]
  },
  {
   "cell_type": "code",
   "execution_count": 6,
   "id": "9c2f2f6d",
   "metadata": {
    "execution": {
     "iopub.execute_input": "2023-08-24T06:07:49.507346Z",
     "iopub.status.busy": "2023-08-24T06:07:49.507346Z",
     "iopub.status.idle": "2023-08-24T06:07:49.518618Z",
     "shell.execute_reply": "2023-08-24T06:07:49.518618Z"
    }
   },
   "outputs": [],
   "source": [
    "# No. of sessions\n",
    "var = 'mdates'\n",
    "mdates = readmat.big_Array(data[var])\n",
    "mdates = [''.join(list(map(chr,np.array(list(r[0].flat))))) for r in mdates]\n",
    "\n",
    "var = 'mfiles'\n",
    "mfiles = readmat.big_Array(data[var])\n",
    "mfiles = [''.join(list(map(chr,np.array(list(r[0].flat))))) for r in mfiles]\n",
    "\n",
    "var = 'date'\n",
    "date = readmat.big_Array(data[var])\n",
    "date = [''.join(list(map(chr,np.array(list(r[0].flat))))) for r in date]"
   ]
  },
  {
   "cell_type": "code",
   "execution_count": 7,
   "id": "2360da74",
   "metadata": {
    "execution": {
     "iopub.execute_input": "2023-08-24T06:07:49.518618Z",
     "iopub.status.busy": "2023-08-24T06:07:49.518618Z",
     "iopub.status.idle": "2023-08-24T06:07:49.527812Z",
     "shell.execute_reply": "2023-08-24T06:07:49.527812Z"
    }
   },
   "outputs": [
    {
     "data": {
      "text/plain": [
       "['F:\\\\satya_2016\\\\THESIS\\\\MONKEY\\\\MONKEY_J\\\\raw\\\\Apr21a\\\\Neuron_MERGED.mat',\n",
       " 'F:\\\\satya_2016\\\\THESIS\\\\MONKEY\\\\MONKEY_J\\\\raw\\\\Apr21b\\\\Neuron_MERGED.mat',\n",
       " 'F:\\\\satya_2016\\\\THESIS\\\\MONKEY\\\\MONKEY_J\\\\raw\\\\Apr23\\\\Neuron_MERGED.mat',\n",
       " 'F:\\\\satya_2016\\\\THESIS\\\\MONKEY\\\\MONKEY_J\\\\raw\\\\Apr24a\\\\Neuron_MERGED.mat',\n",
       " 'F:\\\\satya_2016\\\\THESIS\\\\MONKEY\\\\MONKEY_J\\\\raw\\\\Apr24b\\\\Neuron_MERGED.mat',\n",
       " 'F:\\\\satya_2016\\\\THESIS\\\\MONKEY\\\\MONKEY_J\\\\raw\\\\Apr25a\\\\Neuron_MERGED.mat',\n",
       " 'F:\\\\satya_2016\\\\THESIS\\\\MONKEY\\\\MONKEY_J\\\\raw\\\\Apr25b\\\\Neuron_MERGED.mat',\n",
       " 'F:\\\\satya_2016\\\\THESIS\\\\MONKEY\\\\MONKEY_J\\\\raw\\\\Apr26a\\\\Neuron_MERGED.mat',\n",
       " 'F:\\\\satya_2016\\\\THESIS\\\\MONKEY\\\\MONKEY_J\\\\raw\\\\Apr26b\\\\Neuron_MERGED.mat',\n",
       " 'F:\\\\satya_2016\\\\THESIS\\\\MONKEY\\\\MONKEY_J\\\\raw\\\\Apr28a\\\\Neuron_MERGED.mat',\n",
       " 'F:\\\\satya_2016\\\\THESIS\\\\MONKEY\\\\MONKEY_J\\\\raw\\\\Apr28b\\\\Neuron_MERGED.mat',\n",
       " 'F:\\\\satya_2016\\\\THESIS\\\\MONKEY\\\\MONKEY_J\\\\raw\\\\Apr28c\\\\Neuron_MERGED.mat',\n",
       " 'F:\\\\satya_2016\\\\THESIS\\\\MONKEY\\\\MONKEY_J\\\\raw\\\\Apr28d\\\\Neuron_MERGED.mat',\n",
       " 'F:\\\\satya_2016\\\\THESIS\\\\MONKEY\\\\MONKEY_J\\\\raw\\\\Bmay02a\\\\Neuron_MERGED.mat',\n",
       " 'F:\\\\satya_2016\\\\THESIS\\\\MONKEY\\\\MONKEY_J\\\\raw\\\\Bmay02b\\\\Neuron_MERGED.mat',\n",
       " 'F:\\\\satya_2016\\\\THESIS\\\\MONKEY\\\\MONKEY_J\\\\raw\\\\Bmay03\\\\Neuron_MERGED.mat',\n",
       " 'F:\\\\satya_2016\\\\THESIS\\\\MONKEY\\\\MONKEY_J\\\\raw\\\\Bmay04\\\\Neuron_MERGED.mat',\n",
       " 'F:\\\\satya_2016\\\\THESIS\\\\MONKEY\\\\MONKEY_J\\\\raw\\\\Bmay05\\\\Neuron_MERGED.mat',\n",
       " 'F:\\\\satya_2016\\\\THESIS\\\\MONKEY\\\\MONKEY_J\\\\raw\\\\Bmay07a\\\\Neuron_MERGED.mat',\n",
       " 'F:\\\\satya_2016\\\\THESIS\\\\MONKEY\\\\MONKEY_J\\\\raw\\\\Bmay07b\\\\Neuron_MERGED.mat',\n",
       " 'F:\\\\satya_2016\\\\THESIS\\\\MONKEY\\\\MONKEY_J\\\\raw\\\\Bmay15a\\\\Neuron_MERGED.mat',\n",
       " 'F:\\\\satya_2016\\\\THESIS\\\\MONKEY\\\\MONKEY_J\\\\raw\\\\Bmay15b\\\\Neuron_MERGED.mat',\n",
       " 'F:\\\\satya_2016\\\\THESIS\\\\MONKEY\\\\MONKEY_J\\\\raw\\\\BMay17a\\\\Neuron_MERGED.mat',\n",
       " 'F:\\\\satya_2016\\\\THESIS\\\\MONKEY\\\\MONKEY_J\\\\raw\\\\BMay17b\\\\Neuron_MERGED.mat',\n",
       " 'F:\\\\satya_2016\\\\THESIS\\\\MONKEY\\\\MONKEY_J\\\\raw\\\\BMay18\\\\Neuron_MERGED.mat',\n",
       " 'F:\\\\satya_2016\\\\THESIS\\\\MONKEY\\\\MONKEY_J\\\\raw\\\\BMay19a\\\\Neuron_MERGED.mat',\n",
       " 'F:\\\\satya_2016\\\\THESIS\\\\MONKEY\\\\MONKEY_J\\\\raw\\\\BMay19b\\\\Neuron_MERGED.mat',\n",
       " 'F:\\\\satya_2016\\\\THESIS\\\\MONKEY\\\\MONKEY_J\\\\raw\\\\BMay20a\\\\Neuron_MERGED.mat',\n",
       " 'F:\\\\satya_2016\\\\THESIS\\\\MONKEY\\\\MONKEY_J\\\\raw\\\\BMay21c\\\\Neuron_MERGED.mat',\n",
       " 'F:\\\\satya_2016\\\\THESIS\\\\MONKEY\\\\MONKEY_J\\\\raw\\\\BMay22a\\\\Neuron_MERGED.mat',\n",
       " 'F:\\\\satya_2016\\\\THESIS\\\\MONKEY\\\\MONKEY_J\\\\raw\\\\BMay26a\\\\Neuron_MERGED.mat',\n",
       " 'F:\\\\satya_2016\\\\THESIS\\\\MONKEY\\\\MONKEY_J\\\\raw\\\\BMay26b\\\\Neuron_MERGED.mat',\n",
       " 'F:\\\\satya_2016\\\\THESIS\\\\MONKEY\\\\MONKEY_J\\\\raw\\\\BMay27a\\\\Neuron_MERGED.mat',\n",
       " 'F:\\\\satya_2016\\\\THESIS\\\\MONKEY\\\\MONKEY_J\\\\raw\\\\BMay27b\\\\Neuron_MERGED.mat',\n",
       " 'F:\\\\satya_2016\\\\THESIS\\\\MONKEY\\\\MONKEY_J\\\\raw\\\\Bmay28\\\\Neuron_MERGED.mat',\n",
       " 'F:\\\\satya_2016\\\\THESIS\\\\MONKEY\\\\MONKEY_J\\\\raw\\\\Bmay31a\\\\Neuron_MERGED.mat',\n",
       " 'F:\\\\satya_2016\\\\THESIS\\\\MONKEY\\\\MONKEY_J\\\\raw\\\\Bmay31b\\\\Neuron_MERGED.mat',\n",
       " 'F:\\\\satya_2016\\\\THESIS\\\\MONKEY\\\\MONKEY_J\\\\raw\\\\dec01\\\\Neuron_MERGED.mat',\n",
       " 'F:\\\\satya_2016\\\\THESIS\\\\MONKEY\\\\MONKEY_J\\\\raw\\\\dec10\\\\Neuron_MERGED.mat',\n",
       " 'F:\\\\satya_2016\\\\THESIS\\\\MONKEY\\\\MONKEY_J\\\\raw\\\\dec11\\\\Neuron_MERGED.mat',\n",
       " 'F:\\\\satya_2016\\\\THESIS\\\\MONKEY\\\\MONKEY_J\\\\raw\\\\dec16\\\\Neuron_MERGED.mat',\n",
       " 'F:\\\\satya_2016\\\\THESIS\\\\MONKEY\\\\MONKEY_J\\\\raw\\\\dec17\\\\Neuron_MERGED.mat',\n",
       " 'F:\\\\satya_2016\\\\THESIS\\\\MONKEY\\\\MONKEY_J\\\\raw\\\\dec18\\\\Neuron_MERGED.mat',\n",
       " 'F:\\\\satya_2016\\\\THESIS\\\\MONKEY\\\\MONKEY_J\\\\raw\\\\dec24\\\\Neuron_MERGED.mat',\n",
       " 'F:\\\\satya_2016\\\\THESIS\\\\MONKEY\\\\MONKEY_J\\\\raw\\\\dec30a\\\\Neuron_MERGED.mat',\n",
       " 'F:\\\\satya_2016\\\\THESIS\\\\MONKEY\\\\MONKEY_J\\\\raw\\\\dec30b\\\\Neuron_MERGED.mat',\n",
       " 'F:\\\\satya_2016\\\\THESIS\\\\MONKEY\\\\MONKEY_J\\\\raw\\\\jan02\\\\Neuron_MERGED.mat',\n",
       " 'F:\\\\satya_2016\\\\THESIS\\\\MONKEY\\\\MONKEY_J\\\\raw\\\\jan03\\\\Neuron_MERGED.mat',\n",
       " 'F:\\\\satya_2016\\\\THESIS\\\\MONKEY\\\\MONKEY_J\\\\raw\\\\jan05\\\\Neuron_MERGED.mat',\n",
       " 'F:\\\\satya_2016\\\\THESIS\\\\MONKEY\\\\MONKEY_J\\\\raw\\\\jan06\\\\Neuron_MERGED.mat',\n",
       " 'F:\\\\satya_2016\\\\THESIS\\\\MONKEY\\\\MONKEY_J\\\\raw\\\\jan08\\\\Neuron_MERGED.mat',\n",
       " 'F:\\\\satya_2016\\\\THESIS\\\\MONKEY\\\\MONKEY_J\\\\raw\\\\jan13\\\\Neuron_MERGED.mat',\n",
       " 'F:\\\\satya_2016\\\\THESIS\\\\MONKEY\\\\MONKEY_J\\\\raw\\\\jan14\\\\Neuron_MERGED.mat',\n",
       " 'F:\\\\satya_2016\\\\THESIS\\\\MONKEY\\\\MONKEY_J\\\\raw\\\\oct01\\\\Neuron_MERGED.mat',\n",
       " 'F:\\\\satya_2016\\\\THESIS\\\\MONKEY\\\\MONKEY_J\\\\raw\\\\oct16\\\\Neuron_MERGED.mat',\n",
       " 'F:\\\\satya_2016\\\\THESIS\\\\MONKEY\\\\MONKEY_J\\\\raw\\\\Zdec03\\\\Neuron_MERGED.mat',\n",
       " 'F:\\\\satya_2016\\\\THESIS\\\\MONKEY\\\\MONKEY_J\\\\raw\\\\Zdec31\\\\Neuron_MERGED.mat',\n",
       " 'F:\\\\satya_2016\\\\THESIS\\\\MONKEY\\\\MONKEY_J\\\\raw\\\\Zoct02a\\\\Neuron_MERGED.mat',\n",
       " 'F:\\\\satya_2016\\\\THESIS\\\\MONKEY\\\\MONKEY_J\\\\raw\\\\Zoct02b\\\\Neuron_MERGED.mat',\n",
       " 'F:\\\\satya_2016\\\\THESIS\\\\MONKEY\\\\MONKEY_J\\\\raw\\\\Zoct03a\\\\Neuron_MERGED.mat',\n",
       " 'F:\\\\satya_2016\\\\THESIS\\\\MONKEY\\\\MONKEY_J\\\\raw\\\\Zoct03b\\\\Neuron_MERGED.mat',\n",
       " 'F:\\\\satya_2016\\\\THESIS\\\\MONKEY\\\\MONKEY_J\\\\raw\\\\Zoct06\\\\Neuron_MERGED.mat',\n",
       " 'F:\\\\satya_2016\\\\THESIS\\\\MONKEY\\\\MONKEY_J\\\\raw\\\\Zoct11\\\\Neuron_MERGED.mat',\n",
       " 'F:\\\\satya_2016\\\\THESIS\\\\MONKEY\\\\MONKEY_J\\\\raw\\\\Zoct17\\\\Neuron_MERGED.mat']"
      ]
     },
     "execution_count": 7,
     "metadata": {},
     "output_type": "execute_result"
    }
   ],
   "source": [
    "mfiles"
   ]
  }
 ],
 "metadata": {
  "kernelspec": {
   "display_name": "Python 3 (ipykernel)",
   "language": "python",
   "name": "python3"
  },
  "language_info": {
   "codemirror_mode": {
    "name": "ipython",
    "version": 3
   },
   "file_extension": ".py",
   "mimetype": "text/x-python",
   "name": "python",
   "nbconvert_exporter": "python",
   "pygments_lexer": "ipython3",
   "version": "3.11.4"
  }
 },
 "nbformat": 4,
 "nbformat_minor": 5
}
